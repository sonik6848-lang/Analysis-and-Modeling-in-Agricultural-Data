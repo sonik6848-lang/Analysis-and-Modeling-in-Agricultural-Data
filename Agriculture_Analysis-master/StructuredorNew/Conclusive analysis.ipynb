{
 "cells": [
  {
   "cell_type": "code",
   "execution_count": 359,
   "metadata": {},
   "outputs": [],
   "source": [
    "import numpy as np\n",
    "import pandas as pd\n",
    "import matplotlib.pyplot as plt\n",
    "import seaborn as sns"
   ]
  },
  {
   "cell_type": "code",
   "execution_count": 107,
   "metadata": {},
   "outputs": [],
   "source": [
    "%matplotlib inline"
   ]
  },
  {
   "cell_type": "code",
   "execution_count": 108,
   "metadata": {},
   "outputs": [],
   "source": [
    "data = pd.read_csv('data_set.csv')"
   ]
  },
  {
   "cell_type": "code",
   "execution_count": 109,
   "metadata": {},
   "outputs": [
    {
     "data": {
      "text/plain": [
       "Index(['Unnamed: 0', 'STATES', 'YEAR', 'Crop', 'Area', 'Production',\n",
       "       'Annual_Rain', 'Avg_Temperature', 'Price', 'Cost_per_Hectare',\n",
       "       'Cost_per_quintal', 'Suicides', 'Export'],\n",
       "      dtype='object')"
      ]
     },
     "execution_count": 109,
     "metadata": {},
     "output_type": "execute_result"
    }
   ],
   "source": [
    "data.columns"
   ]
  },
  {
   "cell_type": "code",
   "execution_count": 110,
   "metadata": {},
   "outputs": [
    {
     "name": "stderr",
     "output_type": "stream",
     "text": [
      "/home/abhikcr/anaconda3/lib/python3.6/site-packages/pandas/core/computation/expressions.py:180: UserWarning: evaluating in Python space because the '*' operator is not supported by numexpr for the bool dtype, use '&' instead\n",
      "  .format(op=op_str, alt_op=unsupported[op_str]))\n"
     ]
    }
   ],
   "source": [
    "data_set = data[(data['YEAR'] >=2010)*(data['YEAR'] <=2014) ].fillna(0).groupby(['YEAR','Suicides']).agg('mean').reset_index()"
   ]
  },
  {
   "cell_type": "code",
   "execution_count": 262,
   "metadata": {},
   "outputs": [
    {
     "data": {
      "text/plain": [
       "Index(['YEAR', 'Suicides', 'Unnamed: 0', 'Area', 'Production', 'Annual_Rain',\n",
       "       'Avg_Temperature', 'Price', 'Cost_per_Hectare', 'Cost_per_quintal',\n",
       "       'Export'],\n",
       "      dtype='object')"
      ]
     },
     "execution_count": 262,
     "metadata": {},
     "output_type": "execute_result"
    }
   ],
   "source": [
    "data_set.columns"
   ]
  },
  {
   "cell_type": "code",
   "execution_count": 112,
   "metadata": {},
   "outputs": [
    {
     "data": {
      "image/png": "[encoded data removed]",
      "text/plain": [
       "<Figure size 432x288 with 2 Axes>"
      ]
     },
     "metadata": {
      "needs_background": "light"
     },
     "output_type": "display_data"
    }
   ],
   "source": [
    "vals = data_set.corr()\n",
    "plt.imshow(vals.values)\n",
    "plt.colorbar()\n",
    "plt.show()"
   ]
  },
  {
   "cell_type": "code",
   "execution_count": 113,
   "metadata": {},
   "outputs": [
    {
     "data": {
      "text/html": [
       "<div>\n",
       "<style scoped>\n",
       "    .dataframe tbody tr th:only-of-type {\n",
       "        vertical-align: middle;\n",
       "    }\n",
       "\n",
       "    .dataframe tbody tr th {\n",
       "        vertical-align: top;\n",
       "    }\n",
       "\n",
       "    .dataframe thead th {\n",
       "        text-align: right;\n",
       "    }\n",
       "</style>\n",
       "<table border=\"1\" class=\"dataframe\">\n",
       "  <thead>\n",
       "    <tr style=\"text-align: right;\">\n",
       "      <th></th>\n",
       "      <th>YEAR</th>\n",
       "      <th>Suicides</th>\n",
       "      <th>Unnamed: 0</th>\n",
       "      <th>Area</th>\n",
       "      <th>Production</th>\n",
       "      <th>Annual_Rain</th>\n",
       "      <th>Avg_Temperature</th>\n",
       "      <th>Price</th>\n",
       "      <th>Cost_per_Hectare</th>\n",
       "      <th>Cost_per_quintal</th>\n",
       "      <th>Export</th>\n",
       "    </tr>\n",
       "  </thead>\n",
       "  <tbody>\n",
       "    <tr>\n",
       "      <th>YEAR</th>\n",
       "      <td>1.000000</td>\n",
       "      <td>-0.072314</td>\n",
       "      <td>0.004526</td>\n",
       "      <td>0.018936</td>\n",
       "      <td>-0.021838</td>\n",
       "      <td>-0.068967</td>\n",
       "      <td>-0.844673</td>\n",
       "      <td>-0.589953</td>\n",
       "      <td>-0.091459</td>\n",
       "      <td>-0.276030</td>\n",
       "      <td>0.518227</td>\n",
       "    </tr>\n",
       "    <tr>\n",
       "      <th>Suicides</th>\n",
       "      <td>-0.072314</td>\n",
       "      <td>1.000000</td>\n",
       "      <td>-0.132979</td>\n",
       "      <td>0.569297</td>\n",
       "      <td>0.053705</td>\n",
       "      <td>-0.153630</td>\n",
       "      <td>0.078271</td>\n",
       "      <td>0.157430</td>\n",
       "      <td>0.605811</td>\n",
       "      <td>0.580935</td>\n",
       "      <td>-0.170629</td>\n",
       "    </tr>\n",
       "    <tr>\n",
       "      <th>Unnamed: 0</th>\n",
       "      <td>0.004526</td>\n",
       "      <td>-0.132979</td>\n",
       "      <td>1.000000</td>\n",
       "      <td>0.235798</td>\n",
       "      <td>-0.019426</td>\n",
       "      <td>-0.177365</td>\n",
       "      <td>-0.020204</td>\n",
       "      <td>0.151927</td>\n",
       "      <td>0.108755</td>\n",
       "      <td>-0.015712</td>\n",
       "      <td>-0.047121</td>\n",
       "    </tr>\n",
       "    <tr>\n",
       "      <th>Area</th>\n",
       "      <td>0.018936</td>\n",
       "      <td>0.569297</td>\n",
       "      <td>0.235798</td>\n",
       "      <td>1.000000</td>\n",
       "      <td>-0.141455</td>\n",
       "      <td>-0.474405</td>\n",
       "      <td>-0.018899</td>\n",
       "      <td>0.168734</td>\n",
       "      <td>0.604978</td>\n",
       "      <td>0.526788</td>\n",
       "      <td>-0.065960</td>\n",
       "    </tr>\n",
       "    <tr>\n",
       "      <th>Production</th>\n",
       "      <td>-0.021838</td>\n",
       "      <td>0.053705</td>\n",
       "      <td>-0.019426</td>\n",
       "      <td>-0.141455</td>\n",
       "      <td>1.000000</td>\n",
       "      <td>0.338707</td>\n",
       "      <td>0.000170</td>\n",
       "      <td>-0.178189</td>\n",
       "      <td>-0.091054</td>\n",
       "      <td>-0.119273</td>\n",
       "      <td>-0.154962</td>\n",
       "    </tr>\n",
       "    <tr>\n",
       "      <th>Annual_Rain</th>\n",
       "      <td>-0.068967</td>\n",
       "      <td>-0.153630</td>\n",
       "      <td>-0.177365</td>\n",
       "      <td>-0.474405</td>\n",
       "      <td>0.338707</td>\n",
       "      <td>1.000000</td>\n",
       "      <td>0.011724</td>\n",
       "      <td>-0.198641</td>\n",
       "      <td>-0.401591</td>\n",
       "      <td>-0.377049</td>\n",
       "      <td>0.122608</td>\n",
       "    </tr>\n",
       "    <tr>\n",
       "      <th>Avg_Temperature</th>\n",
       "      <td>-0.844673</td>\n",
       "      <td>0.078271</td>\n",
       "      <td>-0.020204</td>\n",
       "      <td>-0.018899</td>\n",
       "      <td>0.000170</td>\n",
       "      <td>0.011724</td>\n",
       "      <td>1.000000</td>\n",
       "      <td>0.833710</td>\n",
       "      <td>0.111818</td>\n",
       "      <td>0.398721</td>\n",
       "      <td>-0.267971</td>\n",
       "    </tr>\n",
       "    <tr>\n",
       "      <th>Price</th>\n",
       "      <td>-0.589953</td>\n",
       "      <td>0.157430</td>\n",
       "      <td>0.151927</td>\n",
       "      <td>0.168734</td>\n",
       "      <td>-0.178189</td>\n",
       "      <td>-0.198641</td>\n",
       "      <td>0.833710</td>\n",
       "      <td>1.000000</td>\n",
       "      <td>0.396087</td>\n",
       "      <td>0.614745</td>\n",
       "      <td>-0.068146</td>\n",
       "    </tr>\n",
       "    <tr>\n",
       "      <th>Cost_per_Hectare</th>\n",
       "      <td>-0.091459</td>\n",
       "      <td>0.605811</td>\n",
       "      <td>0.108755</td>\n",
       "      <td>0.604978</td>\n",
       "      <td>-0.091054</td>\n",
       "      <td>-0.401591</td>\n",
       "      <td>0.111818</td>\n",
       "      <td>0.396087</td>\n",
       "      <td>1.000000</td>\n",
       "      <td>0.740030</td>\n",
       "      <td>0.042826</td>\n",
       "    </tr>\n",
       "    <tr>\n",
       "      <th>Cost_per_quintal</th>\n",
       "      <td>-0.276030</td>\n",
       "      <td>0.580935</td>\n",
       "      <td>-0.015712</td>\n",
       "      <td>0.526788</td>\n",
       "      <td>-0.119273</td>\n",
       "      <td>-0.377049</td>\n",
       "      <td>0.398721</td>\n",
       "      <td>0.614745</td>\n",
       "      <td>0.740030</td>\n",
       "      <td>1.000000</td>\n",
       "      <td>-0.085704</td>\n",
       "    </tr>\n",
       "    <tr>\n",
       "      <th>Export</th>\n",
       "      <td>0.518227</td>\n",
       "      <td>-0.170629</td>\n",
       "      <td>-0.047121</td>\n",
       "      <td>-0.065960</td>\n",
       "      <td>-0.154962</td>\n",
       "      <td>0.122608</td>\n",
       "      <td>-0.267971</td>\n",
       "      <td>-0.068146</td>\n",
       "      <td>0.042826</td>\n",
       "      <td>-0.085704</td>\n",
       "      <td>1.000000</td>\n",
       "    </tr>\n",
       "  </tbody>\n",
       "</table>\n",
       "</div>"
      ],
      "text/plain": [
       "                      YEAR  Suicides  Unnamed: 0      Area  Production  \\\n",
       "YEAR              1.000000 -0.072314    0.004526  0.018936   -0.021838   \n",
       "Suicides         -0.072314  1.000000   -0.132979  0.569297    0.053705   \n",
       "Unnamed: 0        0.004526 -0.132979    1.000000  0.235798   -0.019426   \n",
       "Area              0.018936  0.569297    0.235798  1.000000   -0.141455   \n",
       "Production       -0.021838  0.053705   -0.019426 -0.141455    1.000000   \n",
       "Annual_Rain      -0.068967 -0.153630   -0.177365 -0.474405    0.338707   \n",
       "Avg_Temperature  -0.844673  0.078271   -0.020204 -0.018899    0.000170   \n",
       "Price            -0.589953  0.157430    0.151927  0.168734   -0.178189   \n",
       "Cost_per_Hectare -0.091459  0.605811    0.108755  0.604978   -0.091054   \n",
       "Cost_per_quintal -0.276030  0.580935   -0.015712  0.526788   -0.119273   \n",
       "Export            0.518227 -0.170629   -0.047121 -0.065960   -0.154962   \n",
       "\n",
       "                  Annual_Rain  Avg_Temperature     Price  Cost_per_Hectare  \\\n",
       "YEAR                -0.068967        -0.844673 -0.589953         -0.091459   \n",
       "Suicides            -0.153630         0.078271  0.157430          0.605811   \n",
       "Unnamed: 0          -0.177365        -0.020204  0.151927          0.108755   \n",
       "Area                -0.474405        -0.018899  0.168734          0.604978   \n",
       "Production           0.338707         0.000170 -0.178189         -0.091054   \n",
       "Annual_Rain          1.000000         0.011724 -0.198641         -0.401591   \n",
       "Avg_Temperature      0.011724         1.000000  0.833710          0.111818   \n",
       "Price               -0.198641         0.833710  1.000000          0.396087   \n",
       "Cost_per_Hectare    -0.401591         0.111818  0.396087          1.000000   \n",
       "Cost_per_quintal    -0.377049         0.398721  0.614745          0.740030   \n",
       "Export               0.122608        -0.267971 -0.068146          0.042826   \n",
       "\n",
       "                  Cost_per_quintal    Export  \n",
       "YEAR                     -0.276030  0.518227  \n",
       "Suicides                  0.580935 -0.170629  \n",
       "Unnamed: 0               -0.015712 -0.047121  \n",
       "Area                      0.526788 -0.065960  \n",
       "Production               -0.119273 -0.154962  \n",
       "Annual_Rain              -0.377049  0.122608  \n",
       "Avg_Temperature           0.398721 -0.267971  \n",
       "Price                     0.614745 -0.068146  \n",
       "Cost_per_Hectare          0.740030  0.042826  \n",
       "Cost_per_quintal          1.000000 -0.085704  \n",
       "Export                   -0.085704  1.000000  "
      ]
     },
     "execution_count": 113,
     "metadata": {},
     "output_type": "execute_result"
    }
   ],
   "source": [
    "vals"
   ]
  },
  {
   "cell_type": "code",
   "execution_count": 164,
   "metadata": {},
   "outputs": [],
   "source": [
    "from sklearn.cluster import KMeans as km\n",
    "from sklearn.linear_model import LinearRegression as LR\n",
    "from sklearn.linear_model import Lasso as LS\n",
    "from sklearn.linear_model import Ridge as RG"
   ]
  },
  {
   "cell_type": "code",
   "execution_count": 276,
   "metadata": {},
   "outputs": [
    {
     "data": {
      "text/plain": [
       "0.5784777543713816"
      ]
     },
     "execution_count": 276,
     "metadata": {},
     "output_type": "execute_result"
    }
   ],
   "source": [
    "model = LR()\n",
    "\n",
    "X = data_set.drop(columns = ['Suicides', 'Unnamed: 0'],axis=1)\n",
    "\n",
    "y = data_set['Suicides']\n",
    "\n",
    "\n",
    "tou = 10\n",
    "\n",
    "Xx = X.values[y>tou]\n",
    "Yy = y.values[y>tou]\n",
    "\n",
    "v1 = Xx.mean(axis = 0)\n",
    "v2 = Xx.std(axis = 0)\n",
    "\n",
    "Xx = Xx - v1\n",
    "Xx = Xx / v2\n",
    "\n",
    "model.fit(Xx,Yy)\n",
    "\n",
    "yd = model.predict(Xx)\n",
    "\n",
    "model.score(Xx,Yy)"
   ]
  },
  {
   "cell_type": "code",
   "execution_count": 277,
   "metadata": {},
   "outputs": [
    {
     "data": {
      "text/plain": [
       "[<matplotlib.lines.Line2D at 0x7f208ddfebe0>]"
      ]
     },
     "execution_count": 277,
     "metadata": {},
     "output_type": "execute_result"
    },
    {
     "data": {
      "image/png": "[encoded data removed]",
      "text/plain": [
       "<Figure size 432x288 with 1 Axes>"
      ]
     },
     "metadata": {
      "needs_background": "light"
     },
     "output_type": "display_data"
    }
   ],
   "source": [
    "plt.plot(yd,Yy,'.')"
   ]
  },
  {
   "cell_type": "code",
   "execution_count": 278,
   "metadata": {},
   "outputs": [
    {
     "data": {
      "text/plain": [
       "array([ 465.24148068,  288.91589088,  -80.41830785,  326.39801617,\n",
       "        568.22693271, -478.95561835,  446.20666128,  359.92494405,\n",
       "       -287.14647594])"
      ]
     },
     "execution_count": 278,
     "metadata": {},
     "output_type": "execute_result"
    }
   ],
   "source": [
    "model.coef_"
   ]
  },
  {
   "cell_type": "code",
   "execution_count": 279,
   "metadata": {},
   "outputs": [],
   "source": [
    "from sklearn.tree import DecisionTreeRegressor as scart"
   ]
  },
  {
   "cell_type": "code",
   "execution_count": 280,
   "metadata": {},
   "outputs": [],
   "source": [
    "model = scart(max_depth = 10)"
   ]
  },
  {
   "cell_type": "code",
   "execution_count": 281,
   "metadata": {},
   "outputs": [
    {
     "data": {
      "text/plain": [
       "DecisionTreeRegressor(criterion='mse', max_depth=10, max_features=None,\n",
       "           max_leaf_nodes=None, min_impurity_decrease=0.0,\n",
       "           min_impurity_split=None, min_samples_leaf=1,\n",
       "           min_samples_split=2, min_weight_fraction_leaf=0.0,\n",
       "           presort=False, random_state=None, splitter='best')"
      ]
     },
     "execution_count": 281,
     "metadata": {},
     "output_type": "execute_result"
    }
   ],
   "source": [
    "model.fit(Xx,Yy)"
   ]
  },
  {
   "cell_type": "code",
   "execution_count": 282,
   "metadata": {},
   "outputs": [
    {
     "data": {
      "text/plain": [
       "0.9988094337564417"
      ]
     },
     "execution_count": 282,
     "metadata": {},
     "output_type": "execute_result"
    }
   ],
   "source": [
    "model.score(Xx,Yy)"
   ]
  },
  {
   "cell_type": "code",
   "execution_count": 283,
   "metadata": {},
   "outputs": [],
   "source": [
    "Yd = model.predict(Xx)"
   ]
  },
  {
   "cell_type": "code",
   "execution_count": 284,
   "metadata": {},
   "outputs": [
    {
     "data": {
      "text/plain": [
       "[<matplotlib.lines.Line2D at 0x7f208dbadc88>]"
      ]
     },
     "execution_count": 284,
     "metadata": {},
     "output_type": "execute_result"
    },
    {
     "data": {
      "image/png": "[encoded data removed]",
      "text/plain": [
       "<Figure size 432x288 with 1 Axes>"
      ]
     },
     "metadata": {
      "needs_background": "light"
     },
     "output_type": "display_data"
    }
   ],
   "source": [
    "plt.plot(Yd,Yy,'.')"
   ]
  },
  {
   "cell_type": "code",
   "execution_count": 285,
   "metadata": {},
   "outputs": [
    {
     "name": "stdout",
     "output_type": "stream",
     "text": [
      "  (0, 0)\t1\n",
      "  (0, 1)\t1\n",
      "  (0, 2)\t1\n",
      "  (0, 3)\t1\n",
      "  (0, 4)\t1\n",
      "  (0, 6)\t1\n",
      "  (0, 7)\t1\n",
      "  (0, 8)\t1\n",
      "  (0, 9)\t1\n",
      "  (0, 11)\t1\n"
     ]
    }
   ],
   "source": [
    "print(model.decision_path(Xx[0:1,:]))"
   ]
  },
  {
   "cell_type": "code",
   "execution_count": 286,
   "metadata": {},
   "outputs": [
    {
     "data": {
      "text/plain": [
       "array([4.45015777e-04, 5.04053910e-01, 4.85765455e-02, 1.36576048e-01,\n",
       "       0.00000000e+00, 7.03570987e-04, 1.71175387e-01, 1.02158105e-01,\n",
       "       3.63114192e-02])"
      ]
     },
     "execution_count": 286,
     "metadata": {},
     "output_type": "execute_result"
    }
   ],
   "source": [
    "model.feature_importances_"
   ]
  },
  {
   "cell_type": "code",
   "execution_count": 291,
   "metadata": {},
   "outputs": [
    {
     "data": {
      "text/plain": [
       "1"
      ]
     },
     "execution_count": 291,
     "metadata": {},
     "output_type": "execute_result"
    }
   ],
   "source": [
    "model.feature_importances_.argmax()"
   ]
  },
  {
   "cell_type": "code",
   "execution_count": 292,
   "metadata": {},
   "outputs": [
    {
     "data": {
      "text/plain": [
       "Index(['YEAR', 'Area', 'Production', 'Annual_Rain', 'Avg_Temperature', 'Price',\n",
       "       'Cost_per_Hectare', 'Cost_per_quintal', 'Export'],\n",
       "      dtype='object')"
      ]
     },
     "execution_count": 292,
     "metadata": {},
     "output_type": "execute_result"
    }
   ],
   "source": [
    "X.columns"
   ]
  },
  {
   "cell_type": "code",
   "execution_count": null,
   "metadata": {},
   "outputs": [],
   "source": []
  },
  {
   "cell_type": "code",
   "execution_count": 490,
   "metadata": {},
   "outputs": [],
   "source": [
    "data_set = data.fillna(0).groupby(['Crop','YEAR']).agg('mean').reset_index()"
   ]
  },
  {
   "cell_type": "code",
   "execution_count": 491,
   "metadata": {},
   "outputs": [
    {
     "data": {
      "text/plain": [
       "Index(['Crop', 'YEAR', 'Unnamed: 0', 'Area', 'Production', 'Annual_Rain',\n",
       "       'Avg_Temperature', 'Price', 'Cost_per_Hectare', 'Cost_per_quintal',\n",
       "       'Suicides', 'Export'],\n",
       "      dtype='object')"
      ]
     },
     "execution_count": 491,
     "metadata": {},
     "output_type": "execute_result"
    }
   ],
   "source": [
    "data_set.columns"
   ]
  },
  {
   "cell_type": "code",
   "execution_count": 492,
   "metadata": {},
   "outputs": [],
   "source": [
    "dicts = {}\n",
    "for crop in data_set['Crop'].unique():\n",
    "    \n",
    "    X = data_set[data_set['Crop'] == crop]['YEAR'].values.reshape(-1,1)\n",
    "    Y = data_set[data_set['Crop'] == crop]['Production'].values\n",
    "    if(X.shape[0] > 5):\n",
    "#         print(X.shape,Y.shape)\n",
    "        \n",
    "        linmodel = LR()\n",
    "        linmodel.fit(X,Y)\n",
    "        w = linmodel.coef_[0]\n",
    "        dicts[crop] = [w]\n",
    "#         print(w)"
   ]
  },
  {
   "cell_type": "code",
   "execution_count": 493,
   "metadata": {},
   "outputs": [],
   "source": [
    "slope_data = pd.DataFrame(dicts).T.reset_index().rename(columns = {0:'W slope'})"
   ]
  },
  {
   "cell_type": "code",
   "execution_count": 494,
   "metadata": {},
   "outputs": [
    {
     "data": {
      "text/plain": [
       "(59, 2)"
      ]
     },
     "execution_count": 494,
     "metadata": {},
     "output_type": "execute_result"
    }
   ],
   "source": [
    "slope_data.shape"
   ]
  },
  {
   "cell_type": "code",
   "execution_count": 497,
   "metadata": {},
   "outputs": [
    {
     "data": {
      "image/png": "[encoded data removed]",
      "text/plain": [
       "<Figure size 1131.8x720 with 1 Axes>"
      ]
     },
     "metadata": {},
     "output_type": "display_data"
    }
   ],
   "source": [
    "sns.catplot(x='index', y='W slope', data = slope_data,  height=10, aspect=13/8.27);\n",
    "plt.ylim(-5000,5000)\n",
    "plt.xticks(rotation='vertical')\n",
    "plt.plot([0,59],[-1000,-1000])\n",
    "plt.show()"
   ]
  },
  {
   "cell_type": "code",
   "execution_count": 502,
   "metadata": {},
   "outputs": [],
   "source": [
    "data_set = data.fillna(0).groupby(['Crop','YEAR']).agg('mean').reset_index()"
   ]
  },
  {
   "cell_type": "code",
   "execution_count": 581,
   "metadata": {},
   "outputs": [],
   "source": [
    "dicts = {}\n",
    "dicts2 = {}\n",
    "dicts3 = {}\n",
    "maxw = 0\n",
    "for crop in data_set['Crop'].unique():\n",
    "    \n",
    "    X = data_set[data_set['Crop'] == crop]['YEAR'].values.reshape(-1,1)\n",
    "    Y = data_set[data_set['Crop'] == crop]['Production'].values\n",
    "    Y2 = data_set[data_set['Crop'] == crop]['Price'].values\n",
    "    \n",
    "    X = X[Y2 > 0]\n",
    "    Y = Y[Y2 > 0]\n",
    "    Y2 = Y2[Y2 > 0]\n",
    "    \n",
    "    if(X.shape[0] > 5):\n",
    "#         print(X.shape,Y.shape)\n",
    "        \n",
    "        linmodel = LR()\n",
    "        linmodel.fit(X,Y)\n",
    "        w = linmodel.coef_[0]\n",
    "        linmodel.fit(X,Y2)\n",
    "        w2 = linmodel.coef_[0]\n",
    "        \n",
    "        if(w > maxw):\n",
    "            maxw = w\n",
    "        \n",
    "        if(w < 0 and w2 > 0):\n",
    "            dicts[crop] = [w,w2]\n",
    "        \n",
    "        if(w < 10000 and w2 > 100): \n",
    "            dicts2[crop] = [w,w2]\n",
    "            \n",
    "        dicts3[crop] = [w,w2]\n",
    "#         print(w)"
   ]
  },
  {
   "cell_type": "code",
   "execution_count": 582,
   "metadata": {},
   "outputs": [],
   "source": [
    "slope_data = pd.DataFrame(dicts).T.reset_index().rename(columns = {0:'production var',1:'price var'})"
   ]
  },
  {
   "cell_type": "code",
   "execution_count": 583,
   "metadata": {},
   "outputs": [
    {
     "data": {
      "text/html": [
       "<div>\n",
       "<style scoped>\n",
       "    .dataframe tbody tr th:only-of-type {\n",
       "        vertical-align: middle;\n",
       "    }\n",
       "\n",
       "    .dataframe tbody tr th {\n",
       "        vertical-align: top;\n",
       "    }\n",
       "\n",
       "    .dataframe thead th {\n",
       "        text-align: right;\n",
       "    }\n",
       "</style>\n",
       "<table border=\"1\" class=\"dataframe\">\n",
       "  <thead>\n",
       "    <tr style=\"text-align: right;\">\n",
       "      <th></th>\n",
       "      <th>index</th>\n",
       "      <th>production var</th>\n",
       "      <th>price var</th>\n",
       "    </tr>\n",
       "  </thead>\n",
       "  <tbody>\n",
       "    <tr>\n",
       "      <th>0</th>\n",
       "      <td>Barley</td>\n",
       "      <td>-129.610556</td>\n",
       "      <td>51.277056</td>\n",
       "    </tr>\n",
       "    <tr>\n",
       "      <th>1</th>\n",
       "      <td>Jute</td>\n",
       "      <td>-43011.146430</td>\n",
       "      <td>125.248918</td>\n",
       "    </tr>\n",
       "    <tr>\n",
       "      <th>2</th>\n",
       "      <td>Niger seed</td>\n",
       "      <td>-144.009443</td>\n",
       "      <td>249.534632</td>\n",
       "    </tr>\n",
       "    <tr>\n",
       "      <th>3</th>\n",
       "      <td>Safflower</td>\n",
       "      <td>-1031.251935</td>\n",
       "      <td>122.445887</td>\n",
       "    </tr>\n",
       "    <tr>\n",
       "      <th>4</th>\n",
       "      <td>Sunflower</td>\n",
       "      <td>-4511.467222</td>\n",
       "      <td>223.906926</td>\n",
       "    </tr>\n",
       "  </tbody>\n",
       "</table>\n",
       "</div>"
      ],
      "text/plain": [
       "        index  production var   price var\n",
       "0      Barley     -129.610556   51.277056\n",
       "1        Jute   -43011.146430  125.248918\n",
       "2  Niger seed     -144.009443  249.534632\n",
       "3   Safflower    -1031.251935  122.445887\n",
       "4   Sunflower    -4511.467222  223.906926"
      ]
     },
     "execution_count": 583,
     "metadata": {},
     "output_type": "execute_result"
    }
   ],
   "source": [
    "slope_data"
   ]
  },
  {
   "cell_type": "code",
   "execution_count": 584,
   "metadata": {},
   "outputs": [],
   "source": [
    "slope_data = pd.DataFrame(dicts2).T.reset_index().rename(columns = {0:'production var',1:'price var'})"
   ]
  },
  {
   "cell_type": "code",
   "execution_count": 585,
   "metadata": {},
   "outputs": [
    {
     "data": {
      "text/html": [
       "<div>\n",
       "<style scoped>\n",
       "    .dataframe tbody tr th:only-of-type {\n",
       "        vertical-align: middle;\n",
       "    }\n",
       "\n",
       "    .dataframe tbody tr th {\n",
       "        vertical-align: top;\n",
       "    }\n",
       "\n",
       "    .dataframe thead th {\n",
       "        text-align: right;\n",
       "    }\n",
       "</style>\n",
       "<table border=\"1\" class=\"dataframe\">\n",
       "  <thead>\n",
       "    <tr style=\"text-align: right;\">\n",
       "      <th></th>\n",
       "      <th>index</th>\n",
       "      <th>production var</th>\n",
       "      <th>price var</th>\n",
       "    </tr>\n",
       "  </thead>\n",
       "  <tbody>\n",
       "    <tr>\n",
       "      <th>0</th>\n",
       "      <td>Arhar/Tur</td>\n",
       "      <td>5237.572915</td>\n",
       "      <td>260.551948</td>\n",
       "    </tr>\n",
       "    <tr>\n",
       "      <th>1</th>\n",
       "      <td>Groundnut</td>\n",
       "      <td>1758.235163</td>\n",
       "      <td>199.339827</td>\n",
       "    </tr>\n",
       "    <tr>\n",
       "      <th>2</th>\n",
       "      <td>Jowar</td>\n",
       "      <td>3648.323679</td>\n",
       "      <td>234.956710</td>\n",
       "    </tr>\n",
       "    <tr>\n",
       "      <th>3</th>\n",
       "      <td>Jute</td>\n",
       "      <td>-43011.146430</td>\n",
       "      <td>125.248918</td>\n",
       "    </tr>\n",
       "    <tr>\n",
       "      <th>4</th>\n",
       "      <td>Niger seed</td>\n",
       "      <td>-144.009443</td>\n",
       "      <td>249.534632</td>\n",
       "    </tr>\n",
       "    <tr>\n",
       "      <th>5</th>\n",
       "      <td>Safflower</td>\n",
       "      <td>-1031.251935</td>\n",
       "      <td>122.445887</td>\n",
       "    </tr>\n",
       "    <tr>\n",
       "      <th>6</th>\n",
       "      <td>Sesamum</td>\n",
       "      <td>1494.291172</td>\n",
       "      <td>279.404762</td>\n",
       "    </tr>\n",
       "    <tr>\n",
       "      <th>7</th>\n",
       "      <td>Sunflower</td>\n",
       "      <td>-4511.467222</td>\n",
       "      <td>223.906926</td>\n",
       "    </tr>\n",
       "    <tr>\n",
       "      <th>8</th>\n",
       "      <td>Urad</td>\n",
       "      <td>2670.533797</td>\n",
       "      <td>284.469697</td>\n",
       "    </tr>\n",
       "  </tbody>\n",
       "</table>\n",
       "</div>"
      ],
      "text/plain": [
       "        index  production var   price var\n",
       "0   Arhar/Tur     5237.572915  260.551948\n",
       "1   Groundnut     1758.235163  199.339827\n",
       "2       Jowar     3648.323679  234.956710\n",
       "3        Jute   -43011.146430  125.248918\n",
       "4  Niger seed     -144.009443  249.534632\n",
       "5   Safflower    -1031.251935  122.445887\n",
       "6     Sesamum     1494.291172  279.404762\n",
       "7   Sunflower    -4511.467222  223.906926\n",
       "8        Urad     2670.533797  284.469697"
      ]
     },
     "execution_count": 585,
     "metadata": {},
     "output_type": "execute_result"
    }
   ],
   "source": [
    "slope_data"
   ]
  },
  {
   "cell_type": "code",
   "execution_count": 586,
   "metadata": {},
   "outputs": [
    {
     "data": {
      "text/plain": [
       "642131.8001273725"
      ]
     },
     "execution_count": 586,
     "metadata": {},
     "output_type": "execute_result"
    }
   ],
   "source": [
    "maxw"
   ]
  },
  {
   "cell_type": "code",
   "execution_count": 587,
   "metadata": {},
   "outputs": [],
   "source": [
    "slope_data = pd.DataFrame(dicts3).T.reset_index().rename(columns = {0:'production var',1:'price var'})"
   ]
  },
  {
   "cell_type": "code",
   "execution_count": 588,
   "metadata": {},
   "outputs": [
    {
     "data": {
      "text/html": [
       "<div>\n",
       "<style scoped>\n",
       "    .dataframe tbody tr th:only-of-type {\n",
       "        vertical-align: middle;\n",
       "    }\n",
       "\n",
       "    .dataframe tbody tr th {\n",
       "        vertical-align: top;\n",
       "    }\n",
       "\n",
       "    .dataframe thead th {\n",
       "        text-align: right;\n",
       "    }\n",
       "</style>\n",
       "<table border=\"1\" class=\"dataframe\">\n",
       "  <thead>\n",
       "    <tr style=\"text-align: right;\">\n",
       "      <th></th>\n",
       "      <th>index</th>\n",
       "      <th>production var</th>\n",
       "      <th>price var</th>\n",
       "    </tr>\n",
       "  </thead>\n",
       "  <tbody>\n",
       "    <tr>\n",
       "      <th>0</th>\n",
       "      <td>Arhar/Tur</td>\n",
       "      <td>5237.572915</td>\n",
       "      <td>260.551948</td>\n",
       "    </tr>\n",
       "    <tr>\n",
       "      <th>1</th>\n",
       "      <td>Bajra</td>\n",
       "      <td>13476.838875</td>\n",
       "      <td>69.145022</td>\n",
       "    </tr>\n",
       "    <tr>\n",
       "      <th>2</th>\n",
       "      <td>Barley</td>\n",
       "      <td>-129.610556</td>\n",
       "      <td>51.277056</td>\n",
       "    </tr>\n",
       "    <tr>\n",
       "      <th>3</th>\n",
       "      <td>Cotton(lint)</td>\n",
       "      <td>98938.700867</td>\n",
       "      <td>379.372294</td>\n",
       "    </tr>\n",
       "    <tr>\n",
       "      <th>4</th>\n",
       "      <td>Gram</td>\n",
       "      <td>17651.118445</td>\n",
       "      <td>169.123377</td>\n",
       "    </tr>\n",
       "    <tr>\n",
       "      <th>5</th>\n",
       "      <td>Groundnut</td>\n",
       "      <td>1758.235163</td>\n",
       "      <td>199.339827</td>\n",
       "    </tr>\n",
       "    <tr>\n",
       "      <th>6</th>\n",
       "      <td>Jowar</td>\n",
       "      <td>3648.323679</td>\n",
       "      <td>234.956710</td>\n",
       "    </tr>\n",
       "    <tr>\n",
       "      <th>7</th>\n",
       "      <td>Jute</td>\n",
       "      <td>-43011.146430</td>\n",
       "      <td>125.248918</td>\n",
       "    </tr>\n",
       "    <tr>\n",
       "      <th>8</th>\n",
       "      <td>Maize</td>\n",
       "      <td>49300.778390</td>\n",
       "      <td>68.593074</td>\n",
       "    </tr>\n",
       "    <tr>\n",
       "      <th>9</th>\n",
       "      <td>Niger seed</td>\n",
       "      <td>-144.009443</td>\n",
       "      <td>249.534632</td>\n",
       "    </tr>\n",
       "    <tr>\n",
       "      <th>10</th>\n",
       "      <td>Ragi</td>\n",
       "      <td>433.893412</td>\n",
       "      <td>92.521645</td>\n",
       "    </tr>\n",
       "    <tr>\n",
       "      <th>11</th>\n",
       "      <td>Rice</td>\n",
       "      <td>184200.456704</td>\n",
       "      <td>150.562771</td>\n",
       "    </tr>\n",
       "    <tr>\n",
       "      <th>12</th>\n",
       "      <td>Safflower</td>\n",
       "      <td>-1031.251935</td>\n",
       "      <td>122.445887</td>\n",
       "    </tr>\n",
       "    <tr>\n",
       "      <th>13</th>\n",
       "      <td>Sesamum</td>\n",
       "      <td>1494.291172</td>\n",
       "      <td>279.404762</td>\n",
       "    </tr>\n",
       "    <tr>\n",
       "      <th>14</th>\n",
       "      <td>Soyabean</td>\n",
       "      <td>63821.050069</td>\n",
       "      <td>239.870130</td>\n",
       "    </tr>\n",
       "    <tr>\n",
       "      <th>15</th>\n",
       "      <td>Sugarcane</td>\n",
       "      <td>642131.800127</td>\n",
       "      <td>10.367338</td>\n",
       "    </tr>\n",
       "    <tr>\n",
       "      <th>16</th>\n",
       "      <td>Sunflower</td>\n",
       "      <td>-4511.467222</td>\n",
       "      <td>223.906926</td>\n",
       "    </tr>\n",
       "    <tr>\n",
       "      <th>17</th>\n",
       "      <td>Urad</td>\n",
       "      <td>2670.533797</td>\n",
       "      <td>284.469697</td>\n",
       "    </tr>\n",
       "    <tr>\n",
       "      <th>18</th>\n",
       "      <td>Wheat</td>\n",
       "      <td>198027.175392</td>\n",
       "      <td>81.904762</td>\n",
       "    </tr>\n",
       "  </tbody>\n",
       "</table>\n",
       "</div>"
      ],
      "text/plain": [
       "           index  production var   price var\n",
       "0      Arhar/Tur     5237.572915  260.551948\n",
       "1          Bajra    13476.838875   69.145022\n",
       "2         Barley     -129.610556   51.277056\n",
       "3   Cotton(lint)    98938.700867  379.372294\n",
       "4           Gram    17651.118445  169.123377\n",
       "5      Groundnut     1758.235163  199.339827\n",
       "6          Jowar     3648.323679  234.956710\n",
       "7           Jute   -43011.146430  125.248918\n",
       "8          Maize    49300.778390   68.593074\n",
       "9     Niger seed     -144.009443  249.534632\n",
       "10          Ragi      433.893412   92.521645\n",
       "11          Rice   184200.456704  150.562771\n",
       "12     Safflower    -1031.251935  122.445887\n",
       "13       Sesamum     1494.291172  279.404762\n",
       "14      Soyabean    63821.050069  239.870130\n",
       "15     Sugarcane   642131.800127   10.367338\n",
       "16     Sunflower    -4511.467222  223.906926\n",
       "17          Urad     2670.533797  284.469697\n",
       "18         Wheat   198027.175392   81.904762"
      ]
     },
     "execution_count": 588,
     "metadata": {},
     "output_type": "execute_result"
    }
   ],
   "source": [
    "slope_data"
   ]
  },
  {
   "cell_type": "code",
   "execution_count": 595,
   "metadata": {},
   "outputs": [],
   "source": [
    "data_set = data.fillna(0).groupby(['Crop','YEAR']).agg('mean').reset_index()"
   ]
  },
  {
   "cell_type": "code",
   "execution_count": 617,
   "metadata": {},
   "outputs": [],
   "source": [
    "dicts = {}\n",
    "dicts2 = {}\n",
    "dicts3 = {}\n",
    "maxw = 0\n",
    "for crop in data_set['Crop'].unique():\n",
    "    \n",
    "    X = data_set[data_set['Crop'] == crop]['YEAR'].values.reshape(-1,1)\n",
    "    Y = data_set[data_set['Crop'] == crop]['Cost_per_Hectare'].values\n",
    "    Y2 = data_set[data_set['Crop'] == crop]['Price'].values\n",
    "    \n",
    "    X = X[Y2 > 0]\n",
    "    Y = Y[Y2 > 0]\n",
    "    Y2 = Y2[Y2 > 0]\n",
    "    \n",
    "    if(X.shape[0] > 5):\n",
    "#         print(X.shape,Y.shape)\n",
    "        \n",
    "        linmodel = LR()\n",
    "        linmodel.fit(X,Y)\n",
    "        w = linmodel.coef_[0]\n",
    "        linmodel.fit(X,Y2)\n",
    "        w2 = linmodel.coef_[0]\n",
    "        \n",
    "        if(w> 0):\n",
    "            dicts3[crop] = [w,w2]\n",
    "#         print(w)"
   ]
  },
  {
   "cell_type": "code",
   "execution_count": 618,
   "metadata": {},
   "outputs": [],
   "source": [
    "slope_data = pd.DataFrame(dicts3).T.reset_index().rename(columns = {0:'cost_per_hec var',1:'price var'})"
   ]
  },
  {
   "cell_type": "code",
   "execution_count": 626,
   "metadata": {},
   "outputs": [],
   "source": [
    "slope_data['grow_ratio'] = (slope_data['cost_per_hec var']**-1)*slope_data['price var']"
   ]
  },
  {
   "cell_type": "code",
   "execution_count": 639,
   "metadata": {},
   "outputs": [
    {
     "data": {
      "text/html": [
       "<div>\n",
       "<style scoped>\n",
       "    .dataframe tbody tr th:only-of-type {\n",
       "        vertical-align: middle;\n",
       "    }\n",
       "\n",
       "    .dataframe tbody tr th {\n",
       "        vertical-align: top;\n",
       "    }\n",
       "\n",
       "    .dataframe thead th {\n",
       "        text-align: right;\n",
       "    }\n",
       "</style>\n",
       "<table border=\"1\" class=\"dataframe\">\n",
       "  <thead>\n",
       "    <tr style=\"text-align: right;\">\n",
       "      <th></th>\n",
       "      <th>index</th>\n",
       "      <th>cost_per_hec var</th>\n",
       "      <th>price var</th>\n",
       "      <th>grow_ratio</th>\n",
       "    </tr>\n",
       "  </thead>\n",
       "  <tbody>\n",
       "    <tr>\n",
       "      <th>0</th>\n",
       "      <td>Arhar/Tur</td>\n",
       "      <td>1155.433382</td>\n",
       "      <td>260.551948</td>\n",
       "      <td>0.225501</td>\n",
       "    </tr>\n",
       "    <tr>\n",
       "      <th>2</th>\n",
       "      <td>Gram</td>\n",
       "      <td>865.233108</td>\n",
       "      <td>169.123377</td>\n",
       "      <td>0.195466</td>\n",
       "    </tr>\n",
       "    <tr>\n",
       "      <th>1</th>\n",
       "      <td>Cotton(lint)</td>\n",
       "      <td>2477.784265</td>\n",
       "      <td>379.372294</td>\n",
       "      <td>0.153109</td>\n",
       "    </tr>\n",
       "    <tr>\n",
       "      <th>3</th>\n",
       "      <td>Groundnut</td>\n",
       "      <td>1623.278151</td>\n",
       "      <td>199.339827</td>\n",
       "      <td>0.122801</td>\n",
       "    </tr>\n",
       "    <tr>\n",
       "      <th>5</th>\n",
       "      <td>Rice</td>\n",
       "      <td>1311.470880</td>\n",
       "      <td>150.562771</td>\n",
       "      <td>0.114805</td>\n",
       "    </tr>\n",
       "    <tr>\n",
       "      <th>4</th>\n",
       "      <td>Maize</td>\n",
       "      <td>868.141613</td>\n",
       "      <td>68.593074</td>\n",
       "      <td>0.079011</td>\n",
       "    </tr>\n",
       "    <tr>\n",
       "      <th>7</th>\n",
       "      <td>Wheat</td>\n",
       "      <td>1122.494264</td>\n",
       "      <td>81.904762</td>\n",
       "      <td>0.072967</td>\n",
       "    </tr>\n",
       "    <tr>\n",
       "      <th>6</th>\n",
       "      <td>Sugarcane</td>\n",
       "      <td>3281.720563</td>\n",
       "      <td>10.367338</td>\n",
       "      <td>0.003159</td>\n",
       "    </tr>\n",
       "  </tbody>\n",
       "</table>\n",
       "</div>"
      ],
      "text/plain": [
       "          index  cost_per_hec var   price var  grow_ratio\n",
       "0     Arhar/Tur       1155.433382  260.551948    0.225501\n",
       "2          Gram        865.233108  169.123377    0.195466\n",
       "1  Cotton(lint)       2477.784265  379.372294    0.153109\n",
       "3     Groundnut       1623.278151  199.339827    0.122801\n",
       "5          Rice       1311.470880  150.562771    0.114805\n",
       "4         Maize        868.141613   68.593074    0.079011\n",
       "7         Wheat       1122.494264   81.904762    0.072967\n",
       "6     Sugarcane       3281.720563   10.367338    0.003159"
      ]
     },
     "execution_count": 639,
     "metadata": {},
     "output_type": "execute_result"
    }
   ],
   "source": [
    "slope_data.sort_values(by = 'grow_ratio', ascending = False)"
   ]
  },
  {
   "cell_type": "code",
   "execution_count": 640,
   "metadata": {},
   "outputs": [
    {
     "data": {
      "text/plain": [
       "'Done'"
      ]
     },
     "execution_count": 640,
     "metadata": {},
     "output_type": "execute_result"
    }
   ],
   "source": [
    "\"Done\""
   ]
  }
 ],
 "metadata": {
  "kernelspec": {
   "display_name": "Python 3",
   "language": "python",
   "name": "python3"
  },
  "language_info": {
   "codemirror_mode": {
    "name": "ipython",
    "version": 3
   },
   "file_extension": ".py",
   "mimetype": "text/x-python",
   "name": "python",
   "nbconvert_exporter": "python",
   "pygments_lexer": "ipython3",
   "version": "3.7.0"
  }
 },
 "nbformat": 4,
 "nbformat_minor": 2
}
